{
 "cells": [
  {
   "cell_type": "markdown",
   "id": "135a9f98",
   "metadata": {
    "collapsed": false,
    "jupyter": {
     "outputs_hidden": false
    },
    "pycharm": {
     "name": "#%% md\n"
    }
   },
   "source": [
    "# Large problem with 1000 assets and 100 factors"
   ]
  },
  {
   "cell_type": "code",
   "execution_count": 1,
   "id": "08e6d883",
   "metadata": {
    "collapsed": false,
    "jupyter": {
     "outputs_hidden": false
    },
    "pycharm": {
     "name": "#%%\n"
    }
   },
   "outputs": [],
   "source": [
    "import numpy as np\n",
    "import pandas as pd\n",
    "import cvxpy as cvx\n",
    "\n",
    "from cvx.risk.factor import FactorModel\n",
    "from cvx.portfolio.min_risk import minrisk_problem\n",
    "from util.random import random_factors, random_beta, random_noise, random_assets"
   ]
  },
  {
   "cell_type": "code",
   "execution_count": 2,
   "id": "0c2428ce",
   "metadata": {
    "collapsed": false,
    "jupyter": {
     "outputs_hidden": false
    },
    "pycharm": {
     "name": "#%%\n"
    }
   },
   "outputs": [],
   "source": [
    "T = 2000\n",
    "factors = random_factors(T=T, N=100, const_factor=False)"
   ]
  },
  {
   "cell_type": "code",
   "execution_count": 3,
   "id": "e255264e",
   "metadata": {
    "collapsed": false,
    "jupyter": {
     "outputs_hidden": false
    },
    "pycharm": {
     "name": "#%%\n"
    }
   },
   "outputs": [],
   "source": [
    "beta = random_beta(assets=random_assets(1000), factors=factors)"
   ]
  },
  {
   "cell_type": "code",
   "execution_count": 4,
   "id": "ea6c7612",
   "metadata": {
    "collapsed": false,
    "jupyter": {
     "outputs_hidden": false
    },
    "pycharm": {
     "name": "#%%\n"
    }
   },
   "outputs": [],
   "source": [
    "ret = factors @ beta + 0.01 * random_noise(factors @ beta)"
   ]
  },
  {
   "cell_type": "code",
   "execution_count": 5,
   "id": "9d2c585a",
   "metadata": {
    "collapsed": false,
    "jupyter": {
     "outputs_hidden": false
    },
    "pycharm": {
     "name": "#%%\n"
    }
   },
   "outputs": [],
   "source": [
    "triangle = FactorModel(assets=len(ret.columns), k=100)"
   ]
  },
  {
   "cell_type": "code",
   "execution_count": 6,
   "id": "5c16899a",
   "metadata": {
    "collapsed": false,
    "jupyter": {
     "outputs_hidden": false
    },
    "pycharm": {
     "name": "#%%\n"
    }
   },
   "outputs": [],
   "source": [
    "#w = triangle.weights\n",
    "w = cvx.Variable(1000)\n",
    "y = cvx.Variable(100)\n",
    "\n",
    "problem = minrisk_problem(triangle, w, y=y)\n",
    "\n",
    "#objective = cvx.Minimize(triangle.estimate(w, y=y))\n",
    "#constraints = [w >= 0, cvx.sum(w) == 1] + triangle.bounds.constraints(w)\n",
    "\n",
    "triangle.update(exposure=beta.values, \n",
    "                cov=factors.cov().values, \n",
    "                idiosyncratic_risk=pd.DataFrame(data=ret - factors @ beta, index=ret.index, columns=ret.columns).std().values,\n",
    "                lower_assets=np.zeros(1000),\n",
    "                upper_assets=np.ones(1000),\n",
    "                lower_factors=-0.1*np.ones(100),\n",
    "                upper_factors= 0.1*np.ones(100))\n",
    "\n"
   ]
  },
  {
   "cell_type": "code",
   "execution_count": 7,
   "id": "875bf3c7",
   "metadata": {
    "collapsed": false,
    "jupyter": {
     "outputs_hidden": false
    },
    "pycharm": {
     "name": "#%%\n"
    }
   },
   "outputs": [
    {
     "name": "stdout",
     "output_type": "stream",
     "text": [
      "150 ms ± 940 μs per loop (mean ± std. dev. of 7 runs, 10 loops each)\n"
     ]
    }
   ],
   "source": [
    "%%timeit\n",
    "for i in range(1):\n",
    "    #objective = cvx.Minimize(triangle.estimate(w, y=y))\n",
    "    #constraints = [w >= 0, cvx.sum(w) == 1] + triangle.bounds.constraints(w)\n",
    "\n",
    "    problem = minrisk_problem(triangle, w, y=y)\n",
    "    triangle.update(exposure=beta.values, \n",
    "                         cov=factors.cov().values, \n",
    "                         idiosyncratic_risk=pd.DataFrame(data=ret - factors @ beta, index=ret.index, columns=ret.columns).std().values,\n",
    "                         lower_assets=np.zeros(1000),\n",
    "                         upper_assets=np.ones(1000),\n",
    "                         lower_factors=-0.1*np.ones(100),\n",
    "                         upper_factors= 0.1*np.ones(100))\n",
    "    \n",
    "    problem.solve(ignore_dpp=True)"
   ]
  }
 ],
 "metadata": {
  "kernelspec": {
   "display_name": "Python 3 (ipykernel)",
   "language": "python",
   "name": "python3"
  },
  "language_info": {
   "codemirror_mode": {
    "name": "ipython",
    "version": 3
   },
   "file_extension": ".py",
   "mimetype": "text/x-python",
   "name": "python",
   "nbconvert_exporter": "python",
   "pygments_lexer": "ipython3",
   "version": "3.12.7"
  }
 },
 "nbformat": 4,
 "nbformat_minor": 5
}
