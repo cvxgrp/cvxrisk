{
 "cells": [
  {
   "cell_type": "markdown",
   "id": "135a9f98",
   "metadata": {
    "collapsed": false,
    "jupyter": {
     "outputs_hidden": false
    },
    "pycharm": {
     "name": "#%% md\n"
    }
   },
   "source": [
    "# Large problem with 1000 assets and 100 factors"
   ]
  },
  {
   "cell_type": "code",
   "execution_count": 1,
   "id": "571339a8",
   "metadata": {
    "collapsed": false,
    "jupyter": {
     "outputs_hidden": false
    },
    "pycharm": {
     "name": "#%%\n"
    }
   },
   "outputs": [],
   "source": [
    "import numpy as np\n",
    "import pandas as pd\n",
    "import cvxpy as cvx\n",
    "\n",
    "from cvx.risk.factor import FactorModel\n",
    "from util.random import random_factors, random_beta, random_noise, random_assets"
   ]
  },
  {
   "cell_type": "code",
   "execution_count": 2,
   "id": "4523a8eb",
   "metadata": {
    "collapsed": false,
    "jupyter": {
     "outputs_hidden": false
    },
    "pycharm": {
     "name": "#%%\n"
    }
   },
   "outputs": [],
   "source": [
    "T = 2000\n",
    "factors = random_factors(T=T, N=100, const_factor=False)"
   ]
  },
  {
   "cell_type": "code",
   "execution_count": 3,
   "id": "5780097a",
   "metadata": {
    "collapsed": false,
    "jupyter": {
     "outputs_hidden": false
    },
    "pycharm": {
     "name": "#%%\n"
    }
   },
   "outputs": [],
   "source": [
    "beta = random_beta(assets=random_assets(1000), factors=factors)"
   ]
  },
  {
   "cell_type": "code",
   "execution_count": 4,
   "id": "b4064505",
   "metadata": {
    "collapsed": false,
    "jupyter": {
     "outputs_hidden": false
    },
    "pycharm": {
     "name": "#%%\n"
    }
   },
   "outputs": [],
   "source": [
    "ret = factors @ beta + 0.01 * random_noise(factors @ beta)"
   ]
  },
  {
   "cell_type": "code",
   "execution_count": 5,
   "id": "00db7774",
   "metadata": {
    "collapsed": false,
    "jupyter": {
     "outputs_hidden": false
    },
    "pycharm": {
     "name": "#%%\n"
    }
   },
   "outputs": [],
   "source": [
    "triangle = FactorModel(assets=len(ret.columns), k=100)"
   ]
  },
  {
   "cell_type": "code",
   "execution_count": 6,
   "id": "327acf27",
   "metadata": {
    "collapsed": false,
    "jupyter": {
     "outputs_hidden": false
    },
    "pycharm": {
     "name": "#%%\n"
    }
   },
   "outputs": [],
   "source": [
    "#w = triangle.weights\n",
    "w = cvx.Variable(1000)\n",
    "y = cvx.Variable(100)\n",
    "\n",
    "objective = cvx.Minimize(triangle.estimate(w, y=y))\n",
    "constraints = [w >= 0, cvx.sum(w) == 1] + triangle.bounds.constraints(w)\n",
    "\n",
    "triangle.update(exposure=beta.values, \n",
    "                     cov=factors.cov().values, \n",
    "                     idiosyncratic_risk=pd.DataFrame(data=ret - factors @ beta, index=ret.index, columns=ret.columns).std().values)\n"
   ]
  },
  {
   "cell_type": "code",
   "execution_count": 7,
   "id": "048557ff",
   "metadata": {
    "collapsed": false,
    "jupyter": {
     "outputs_hidden": false
    },
    "pycharm": {
     "name": "#%%\n"
    }
   },
   "outputs": [
    {
     "name": "stdout",
     "output_type": "stream",
     "text": [
      "495 ms ± 71 ms per loop (mean ± std. dev. of 7 runs, 1 loop each)\n"
     ]
    }
   ],
   "source": [
    "%%timeit\n",
    "for i in range(1):\n",
    "    objective = cvx.Minimize(triangle.estimate(w, y=y))\n",
    "    constraints = [w >= 0, cvx.sum(w) == 1] + triangle.bounds.constraints(w)\n",
    "\n",
    "    problem = cvx.Problem(objective=objective, constraints=constraints)\n",
    "    triangle.update(exposure=beta.values, \n",
    "                         cov=factors.cov().values, \n",
    "                         idiosyncratic_risk=pd.DataFrame(data=ret - factors @ beta, index=ret.index, columns=ret.columns).std().values)\n",
    "    \n",
    "    problem.solve(ignore_dpp=True)"
   ]
  },
  {
   "cell_type": "code",
   "execution_count": 8,
   "id": "c534a9db",
   "metadata": {
    "collapsed": false,
    "jupyter": {
     "outputs_hidden": false
    },
    "pycharm": {
     "name": "#%%\n"
    }
   },
   "outputs": [],
   "source": [
    "# check the solution\n",
    "assert np.isclose(w.value.sum(), 1.0)\n",
    "assert np.all(w.value > -0.01)"
   ]
  }
 ],
 "metadata": {
  "kernelspec": {
   "display_name": "risk",
   "language": "python",
   "name": "risk"
  },
  "language_info": {
   "codemirror_mode": {
    "name": "ipython",
    "version": 3
   },
   "file_extension": ".py",
   "mimetype": "text/x-python",
   "name": "python",
   "nbconvert_exporter": "python",
   "pygments_lexer": "ipython3",
   "version": "3.9.7"
  }
 },
 "nbformat": 4,
 "nbformat_minor": 5
}
