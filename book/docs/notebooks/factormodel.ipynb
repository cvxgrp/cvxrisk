{
 "cells": [
  {
   "cell_type": "markdown",
   "id": "dfd0777f",
   "metadata": {
    "collapsed": false,
    "jupyter": {
     "outputs_hidden": false
    },
    "pycharm": {
     "name": "#%% md\n"
    }
   },
   "source": [
    "# Factor risk models"
   ]
  },
  {
   "cell_type": "code",
   "execution_count": 1,
   "id": "90ac1e04",
   "metadata": {
    "collapsed": false,
    "jupyter": {
     "outputs_hidden": false
    },
    "pycharm": {
     "name": "#%%\n"
    }
   },
   "outputs": [],
   "source": [
    "import pandas as pd\n",
    "import numpy as np\n",
    "import cvxpy as cvx\n",
    "\n",
    "from cvx.linalg import pca\n",
    "from cvx.risk.factor import FactorModel\n",
    "from cvx.portfolio.min_risk import minrisk_problem"
   ]
  },
  {
   "cell_type": "markdown",
   "id": "10e4177b",
   "metadata": {
    "collapsed": false,
    "jupyter": {
     "outputs_hidden": false
    },
    "pycharm": {
     "name": "#%% md\n"
    }
   },
   "source": [
    "## Load prices and compute returns"
   ]
  },
  {
   "cell_type": "code",
   "execution_count": 2,
   "id": "919fdb02",
   "metadata": {
    "collapsed": false,
    "jupyter": {
     "outputs_hidden": false
    },
    "pycharm": {
     "name": "#%%\n"
    }
   },
   "outputs": [],
   "source": [
    "prices = pd.read_csv(\"data/stock_prices.csv\", index_col=0, header=0, parse_dates=True)\n",
    "returns = prices.pct_change().fillna(0.0)"
   ]
  },
  {
   "cell_type": "markdown",
   "id": "e7cb6cf2",
   "metadata": {
    "collapsed": false,
    "jupyter": {
     "outputs_hidden": false
    },
    "pycharm": {
     "name": "#%% md\n"
    }
   },
   "source": [
    "## Compute principal components"
   ]
  },
  {
   "cell_type": "code",
   "execution_count": 3,
   "id": "7ab19ea1",
   "metadata": {
    "collapsed": false,
    "jupyter": {
     "outputs_hidden": false
    },
    "pycharm": {
     "name": "#%%\n"
    }
   },
   "outputs": [],
   "source": [
    "factors = pca(returns=returns, n_components=10)"
   ]
  },
  {
   "cell_type": "markdown",
   "id": "0d69adef",
   "metadata": {
    "collapsed": false,
    "jupyter": {
     "outputs_hidden": false
    },
    "pycharm": {
     "name": "#%% md\n"
    }
   },
   "source": [
    "## Create the risk model, here a FactorModel"
   ]
  },
  {
   "cell_type": "code",
   "execution_count": 4,
   "id": "7aa025fa",
   "metadata": {
    "collapsed": false,
    "jupyter": {
     "outputs_hidden": false
    },
    "pycharm": {
     "name": "#%%\n"
    }
   },
   "outputs": [
    {
     "data": {
      "text/plain": [
       "0.00923407730537884"
      ]
     },
     "execution_count": 4,
     "metadata": {},
     "output_type": "execute_result"
    }
   ],
   "source": [
    "model = FactorModel(assets=len(returns.columns), k=10)\n",
    "\n",
    "# update the model parameters\n",
    "model.update(cov=factors.cov, exposure=factors.exposure.values, idiosyncratic_risk=factors.idiosyncratic.std().values,\n",
    "             lower_assets=np.zeros(20), upper_assets=np.ones(20),\n",
    "             lower_factors=-0.1*np.ones(10), upper_factors=0.1*np.ones(10))\n",
    "\n",
    "# test the risk model with uniform weights\n",
    "weights = 0.05 * np.ones(20)\n",
    "model.estimate(weights).value"
   ]
  },
  {
   "cell_type": "markdown",
   "id": "80504815",
   "metadata": {
    "collapsed": false,
    "jupyter": {
     "outputs_hidden": false
    },
    "pycharm": {
     "name": "#%% md\n"
    }
   },
   "source": [
    "## RiskModel is injected into optimizer"
   ]
  },
  {
   "cell_type": "code",
   "execution_count": 5,
   "id": "2654eb65",
   "metadata": {
    "collapsed": false,
    "jupyter": {
     "outputs_hidden": false
    },
    "pycharm": {
     "name": "#%%\n"
    }
   },
   "outputs": [
    {
     "name": "stdout",
     "output_type": "stream",
     "text": [
      "GOOG    2.359232e-09\n",
      "AAPL    1.078173e-02\n",
      "FB      2.289733e-09\n",
      "BABA    6.149695e-02\n",
      "AMZN    4.095655e-02\n",
      "GE      1.692077e-03\n",
      "AMD     9.033789e-10\n",
      "WMT     4.448612e-02\n",
      "BAC     1.048329e-09\n",
      "GM      1.137605e-09\n",
      "T       1.297920e-01\n",
      "UAA     9.633963e-10\n",
      "SHLD    7.309925e-10\n",
      "XOM     2.502608e-01\n",
      "RRC     1.020484e-09\n",
      "BBY     1.392779e-02\n",
      "MA      5.914576e-02\n",
      "PFE     2.364381e-01\n",
      "JPM     3.743304e-09\n",
      "SBUX    1.510221e-01\n",
      "dtype: float64\n",
      "0.006799927138118909\n",
      "[ 0.04251146 -0.09313427 -0.03753803  0.08220467  0.08363908 -0.02800705\n",
      " -0.1        -0.0717266   0.09784121 -0.03309495]\n"
     ]
    }
   ],
   "source": [
    "w = cvx.Variable(20)\n",
    "y = cvx.Variable(10)\n",
    "\n",
    "problem = minrisk_problem(model, w, y=y)\n",
    "problem.solve()\n",
    "\n",
    "print(pd.Series(data=w.value, index=prices.columns))\n",
    "print(model.estimate(w, y=y).value)\n",
    "\n",
    "# check the solution\n",
    "assert np.isclose(w.value.sum(), 1.0)\n",
    "assert np.all(w.value > -0.01)\n",
    "print(y.value)"
   ]
  },
  {
   "cell_type": "code",
   "execution_count": 6,
   "id": "f5ade742",
   "metadata": {
    "collapsed": false,
    "jupyter": {
     "outputs_hidden": false
    },
    "pycharm": {
     "name": "#%%\n"
    }
   },
   "outputs": [
    {
     "data": {
      "text/plain": [
       "array([ 0.04251146, -0.09313427, -0.03753803,  0.08220467,  0.08363908,\n",
       "       -0.02800705, -0.1       , -0.0717266 ,  0.09784121, -0.03309495])"
      ]
     },
     "execution_count": 6,
     "metadata": {},
     "output_type": "execute_result"
    }
   ],
   "source": [
    "y.value"
   ]
  },
  {
   "cell_type": "code",
   "execution_count": 7,
   "id": "2615d9ad",
   "metadata": {
    "collapsed": false,
    "jupyter": {
     "outputs_hidden": false
    },
    "pycharm": {
     "name": "#%%\n"
    }
   },
   "outputs": [
    {
     "data": {
      "text/plain": [
       "array([ 0.04251146, -0.09313427, -0.03753803,  0.08220467,  0.08363908,\n",
       "       -0.02800705, -0.1       , -0.0717266 ,  0.09784121, -0.03309495])"
      ]
     },
     "execution_count": 7,
     "metadata": {},
     "output_type": "execute_result"
    }
   ],
   "source": [
    "model.parameter[\"exposure\"].value @ w.value"
   ]
  },
  {
   "cell_type": "code",
   "execution_count": null,
   "id": "55092844",
   "metadata": {
    "collapsed": false,
    "jupyter": {
     "outputs_hidden": false
    },
    "pycharm": {
     "name": "#%%\n"
    }
   },
   "outputs": [],
   "source": []
  },
  {
   "cell_type": "code",
   "execution_count": 8,
   "id": "fc071ec6",
   "metadata": {
    "collapsed": false,
    "jupyter": {
     "outputs_hidden": false
    },
    "pycharm": {
     "name": "#%%\n"
    }
   },
   "outputs": [
    {
     "data": {
      "text/plain": [
       "array([ 0.04251146, -0.09313427, -0.03753803,  0.08220467,  0.08363908,\n",
       "       -0.02800705, -0.1       , -0.0717266 ,  0.09784121, -0.03309495])"
      ]
     },
     "execution_count": 8,
     "metadata": {},
     "output_type": "execute_result"
    }
   ],
   "source": [
    "y.value"
   ]
  },
  {
   "cell_type": "code",
   "execution_count": 9,
   "id": "e7e7aa9c",
   "metadata": {
    "collapsed": false,
    "jupyter": {
     "outputs_hidden": false
    },
    "pycharm": {
     "name": "#%%\n"
    }
   },
   "outputs": [
    {
     "data": {
      "text/plain": [
       "array([ 0.04251146, -0.09313427, -0.03753803,  0.08220467,  0.08363908,\n",
       "       -0.02800705, -0.1       , -0.0717266 ,  0.09784121, -0.03309495])"
      ]
     },
     "execution_count": 9,
     "metadata": {},
     "output_type": "execute_result"
    }
   ],
   "source": [
    "model.parameter[\"exposure\"].value @ w.value"
   ]
  },
  {
   "cell_type": "code",
   "execution_count": null,
   "id": "acb359fc",
   "metadata": {
    "collapsed": false,
    "jupyter": {
     "outputs_hidden": false
    },
    "pycharm": {
     "name": "#%%\n"
    }
   },
   "outputs": [],
   "source": []
  },
  {
   "cell_type": "code",
   "execution_count": 10,
   "id": "9feaa9be-34d2-41f6-b5cc-d834b21e5cdd",
   "metadata": {},
   "outputs": [
    {
     "data": {
      "text/plain": [
       "array([ 0.04251146, -0.09313427, -0.03753803,  0.08220467,  0.08363908,\n",
       "       -0.02800705, -0.1       , -0.0717266 ,  0.09784121, -0.03309495])"
      ]
     },
     "execution_count": 10,
     "metadata": {},
     "output_type": "execute_result"
    }
   ],
   "source": [
    "y.value"
   ]
  },
  {
   "cell_type": "code",
   "execution_count": 11,
   "id": "adbe8201-75c4-4b90-bdce-3b7fbb8ea7ea",
   "metadata": {},
   "outputs": [
    {
     "data": {
      "text/plain": [
       "array([ 0.04251146, -0.09313427, -0.03753803,  0.08220467,  0.08363908,\n",
       "       -0.02800705, -0.1       , -0.0717266 ,  0.09784121, -0.03309495])"
      ]
     },
     "execution_count": 11,
     "metadata": {},
     "output_type": "execute_result"
    }
   ],
   "source": [
    "model.parameter[\"exposure\"].value @ w.value"
   ]
  },
  {
   "cell_type": "code",
   "execution_count": null,
   "id": "9fd5d744-f2f2-4a74-a3c8-f22002ee0700",
   "metadata": {},
   "outputs": [],
   "source": []
  }
 ],
 "metadata": {
  "kernelspec": {
   "display_name": "Python 3 (ipykernel)",
   "language": "python",
   "name": "python3"
  },
  "language_info": {
   "codemirror_mode": {
    "name": "ipython",
    "version": 3
   },
   "file_extension": ".py",
   "mimetype": "text/x-python",
   "name": "python",
   "nbconvert_exporter": "python",
   "pygments_lexer": "ipython3",
   "version": "3.9.7"
  }
 },
 "nbformat": 4,
 "nbformat_minor": 5
}
