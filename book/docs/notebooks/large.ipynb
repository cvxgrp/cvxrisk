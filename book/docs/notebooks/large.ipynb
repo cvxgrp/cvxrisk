{
 "cells": [
  {
   "cell_type": "markdown",
   "source": [
    "# Large problem with 1000 assets and 100 factors"
   ],
   "metadata": {
    "collapsed": false
   }
  },
  {
   "cell_type": "code",
   "execution_count": 2,
   "id": "b5c022d1-eadf-4772-8da2-5829f2e9ea4f",
   "metadata": {},
   "outputs": [],
   "source": [
    "import numpy as np\n",
    "import cvxpy as cvx\n",
    "\n",
    "from cvx.risk.factor.timeseries import TimeseriesFactorRiskModel\n",
    "from util.random import random_factors, random_beta, random_noise, random_assets"
   ]
  },
  {
   "cell_type": "code",
   "execution_count": 3,
   "id": "def6ec3c-5535-44c6-8c85-497b935ffa74",
   "metadata": {},
   "outputs": [],
   "source": [
    "T = 2000\n",
    "factors = random_factors(T=T, N=100, const_factor=False)"
   ]
  },
  {
   "cell_type": "code",
   "execution_count": 4,
   "id": "73510698-92e6-46af-8020-bb3eb0073d31",
   "metadata": {},
   "outputs": [],
   "source": [
    "beta = random_beta(assets=random_assets(1000), factors=factors)"
   ]
  },
  {
   "cell_type": "code",
   "execution_count": 5,
   "id": "b71f6ae0-343a-42a7-be14-1c363092f58f",
   "metadata": {},
   "outputs": [],
   "source": [
    "ret = factors @ beta + 0.01 * random_noise(factors @ beta)"
   ]
  },
  {
   "cell_type": "code",
   "execution_count": 6,
   "id": "51bb7787-c380-4655-8c4b-873d7ea36f40",
   "metadata": {},
   "outputs": [],
   "source": [
    "triangle = TimeseriesFactorRiskModel(factors=factors, returns=ret)"
   ]
  },
  {
   "cell_type": "code",
   "execution_count": 7,
   "id": "05bc335f-17f4-4cfe-908f-b313ac482aa8",
   "metadata": {},
   "outputs": [
    {
     "name": "stdout",
     "output_type": "stream",
     "text": [
      "1.0416963316537711e-07\n"
     ]
    }
   ],
   "source": [
    "#w = triangle.weights\n",
    "w = cvx.Variable(shape=1000)\n",
    "objective = cvx.Minimize(triangle.variance(w))\n",
    "constraints = [w >= 0, cvx.sum(w) == 1]\n",
    "problem = cvx.Problem(objective=objective, constraints=constraints)\n",
    "problem.solve()\n",
    "\n",
    "print(triangle.variance(w).value)"
   ]
  },
  {
   "cell_type": "code",
   "execution_count": 8,
   "id": "3c3fe4c5-74d0-405b-af7d-e3c2ebc5e1d3",
   "metadata": {},
   "outputs": [
    {
     "name": "stdout",
     "output_type": "stream",
     "text": [
      "1.0561185016301142e-07\n",
      "CPU times: user 995 ms, sys: 985 ms, total: 1.98 s\n",
      "Wall time: 236 ms\n"
     ]
    }
   ],
   "source": [
    "w = cvx.Variable(shape=1000)\n",
    "# formulation as used in external alpha...\n",
    "objective = cvx.Minimize(cvx.sum_squares(triangle.variance_matrix @ w))\n",
    "constraints = [w >= 0, cvx.sum(w) == 1]\n",
    "problem = cvx.Problem(objective=objective, constraints=constraints)\n",
    "problem.solve()\n",
    "\n",
    "print(triangle.variance(w).value)\n",
    "\n",
    "# check the solution\n",
    "assert np.isclose(w.value.sum(), 1.0)\n",
    "assert np.all(w.value > -0.01)"
   ]
  },
  {
   "cell_type": "code",
   "execution_count": null,
   "id": "80090f5d-73ff-4a46-bac6-bd4edbd4f847",
   "metadata": {},
   "outputs": [],
   "source": []
  }
 ],
 "metadata": {
  "kernelspec": {
   "display_name": "risk",
   "language": "python",
   "name": "risk"
  },
  "language_info": {
   "codemirror_mode": {
    "name": "ipython",
    "version": 3
   },
   "file_extension": ".py",
   "mimetype": "text/x-python",
   "name": "python",
   "nbconvert_exporter": "python",
   "pygments_lexer": "ipython3",
   "version": "3.10.6"
  }
 },
 "nbformat": 4,
 "nbformat_minor": 5
}
