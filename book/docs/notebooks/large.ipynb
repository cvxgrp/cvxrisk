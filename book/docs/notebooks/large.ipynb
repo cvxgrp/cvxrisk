{
 "cells": [
  {
   "cell_type": "markdown",
   "id": "135a9f98",
   "metadata": {
    "collapsed": false,
    "jupyter": {
     "outputs_hidden": false
    }
   },
   "source": [
    "# Large problem with 1000 assets and 100 factors"
   ]
  },
  {
   "cell_type": "code",
   "execution_count": 1,
   "id": "b5c022d1-eadf-4772-8da2-5829f2e9ea4f",
   "metadata": {},
   "outputs": [],
   "source": [
    "import numpy as np\n",
    "import cvxpy as cvx\n",
    "\n",
    "from cvx.risk.factor import TimeseriesFactorRiskModel\n",
    "from util.random import random_factors, random_beta, random_noise, random_assets"
   ]
  },
  {
   "cell_type": "code",
   "execution_count": 2,
   "id": "def6ec3c-5535-44c6-8c85-497b935ffa74",
   "metadata": {},
   "outputs": [],
   "source": [
    "T = 2000\n",
    "factors = random_factors(T=T, N=100, const_factor=False)"
   ]
  },
  {
   "cell_type": "code",
   "execution_count": 3,
   "id": "73510698-92e6-46af-8020-bb3eb0073d31",
   "metadata": {},
   "outputs": [],
   "source": [
    "beta = random_beta(assets=random_assets(1000), factors=factors)"
   ]
  },
  {
   "cell_type": "code",
   "execution_count": 4,
   "id": "b71f6ae0-343a-42a7-be14-1c363092f58f",
   "metadata": {},
   "outputs": [],
   "source": [
    "ret = factors @ beta + 0.01 * random_noise(factors @ beta)"
   ]
  },
  {
   "cell_type": "code",
   "execution_count": 5,
   "id": "51bb7787-c380-4655-8c4b-873d7ea36f40",
   "metadata": {},
   "outputs": [],
   "source": [
    "triangle = TimeseriesFactorRiskModel(factors=factors, returns=ret)"
   ]
  },
  {
   "cell_type": "code",
   "execution_count": 8,
   "id": "05bc335f-17f4-4cfe-908f-b313ac482aa8",
   "metadata": {},
   "outputs": [
    {
     "name": "stdout",
     "output_type": "stream",
     "text": [
      "1.0582242923942002e-07\n"
     ]
    }
   ],
   "source": [
    "#w = triangle.weights\n",
    "w = cvx.Variable(shape=1000)\n",
    "objective = cvx.Minimize(triangle.estimate_risk(w))\n",
    "constraints = [w >= 0, cvx.sum(w) == 1]\n",
    "problem = cvx.Problem(objective=objective, constraints=constraints)\n",
    "problem.solve()\n",
    "\n",
    "print(triangle.estimate_risk(w).value)\n",
    "\n",
    "# check the solution\n",
    "assert np.isclose(w.value.sum(), 1.0)\n",
    "assert np.all(w.value > -0.01)"
   ]
  },
  {
   "cell_type": "code",
   "execution_count": null,
   "id": "80090f5d-73ff-4a46-bac6-bd4edbd4f847",
   "metadata": {},
   "outputs": [],
   "source": []
  }
 ],
 "metadata": {
  "kernelspec": {
   "display_name": "risk",
   "language": "python",
   "name": "risk"
  },
  "language_info": {
   "codemirror_mode": {
    "name": "ipython",
    "version": 3
   },
   "file_extension": ".py",
   "mimetype": "text/x-python",
   "name": "python",
   "nbconvert_exporter": "python",
   "pygments_lexer": "ipython3",
   "version": "3.9.7"
  }
 },
 "nbformat": 4,
 "nbformat_minor": 5
}
