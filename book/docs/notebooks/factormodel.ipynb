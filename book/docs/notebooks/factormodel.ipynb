{
 "cells": [
  {
   "cell_type": "markdown",
   "id": "92d58ef6",
   "metadata": {
    "collapsed": false,
    "jupyter": {
     "outputs_hidden": false
    }
   },
   "source": [
    "# Factor risk models"
   ]
  },
  {
   "cell_type": "code",
   "execution_count": 1,
   "id": "004adfc7",
   "metadata": {},
   "outputs": [],
   "source": [
    "import pandas as pd\n",
    "import numpy as np\n",
    "import cvxpy as cvx\n",
    "\n",
    "from cvx.risk.factor.linalg.pca import pca as principal_components\n",
    "from cvx.risk.factor.timeseries import TimeseriesFactorRiskModel\n",
    "from cvx.risk.factor.fundamental import FundamentalFactorRiskModel\n",
    "\n",
    "from cvx.risk.sample.sample import SampleCovariance, SampleCovariance_Product"
   ]
  },
  {
   "cell_type": "markdown",
   "id": "5acabae2-f859-4512-978c-29e3a9a96cb5",
   "metadata": {},
   "source": [
    "## An abstract Risk Model\n",
    "\n",
    "An abstract risk model is the parent for concrete risk models. It serves as the blueprint. No instances of this class can be created.\n",
    "Each risk model inherits the interface and all attributes defined in this class. \n",
    "\n",
    "An optimizer would get a risk model. Since all risk models share the interface it is trivial to change the risk model."
   ]
  },
  {
   "cell_type": "code",
   "execution_count": 2,
   "id": "5699fcfb-b7ce-4018-b20d-62603b27453b",
   "metadata": {},
   "outputs": [],
   "source": [
    "from abc import abstractmethod, ABC\n",
    "\n",
    "\n",
    "class RiskModel(ABC):\n",
    "    @abstractmethod\n",
    "    def estimate_risk(self, weights, assets=None, **kwargs):\n",
    "        \"\"\"\n",
    "        Estimate the variance of a portfolio given its weights\n",
    "        The weights may come as a cvxpy Variable or numpy array.\n",
    "        \"\"\""
   ]
  },
  {
   "cell_type": "markdown",
   "id": "72f447e8-635d-4ff0-b4ec-d2c856078ccd",
   "metadata": {},
   "source": [
    "## Load prices and compute returns"
   ]
  },
  {
   "cell_type": "code",
   "execution_count": 3,
   "id": "feafbc51-f23e-4435-ae09-7d207fcd7136",
   "metadata": {},
   "outputs": [],
   "source": [
    "prices = pd.read_csv(\"data/stock_prices.csv\", index_col=0, header=0, parse_dates=True)\n",
    "returns = prices.pct_change().fillna(0.0)\n",
    "\n",
    "# compute vola\n",
    "# compute ret/vola\n",
    "# winsorize\n",
    "\n",
    "# "
   ]
  },
  {
   "cell_type": "markdown",
   "id": "093b0aed-c5ca-4d1e-8259-70224c64bb35",
   "metadata": {},
   "source": [
    "## Compute principal components"
   ]
  },
  {
   "cell_type": "code",
   "execution_count": 4,
   "id": "f9e3e0a1-d16d-4976-81ed-4ec3815cb5ee",
   "metadata": {
    "tags": []
   },
   "outputs": [],
   "source": [
    "components = principal_components(returns=returns, n_components=15)"
   ]
  },
  {
   "cell_type": "markdown",
   "id": "0d3c82c4-beed-4e76-b7c8-4e005afe1abc",
   "metadata": {},
   "source": [
    "## Create the risk model, here a FactorModel"
   ]
  },
  {
   "cell_type": "code",
   "execution_count": 5,
   "id": "9f2c55ae-3a66-4791-a1f0-8acaa1b37623",
   "metadata": {},
   "outputs": [
    {
     "data": {
      "text/plain": [
       "8.410457095029708e-05"
      ]
     },
     "execution_count": 5,
     "metadata": {},
     "output_type": "execute_result"
    }
   ],
   "source": [
    "model = TimeseriesFactorRiskModel(returns=returns, factors=components.returns)\n",
    "# test the risk model with uniform weights\n",
    "weights = pd.Series(index = prices.columns, data=0.05).values\n",
    "model.estimate_risk(weights).value"
   ]
  },
  {
   "cell_type": "markdown",
   "id": "d7e1c67e-848c-4d3e-9876-857ec65aa4aa",
   "metadata": {},
   "source": [
    "## But we could also use the sample covariance matrix here"
   ]
  },
  {
   "cell_type": "code",
   "execution_count": 6,
   "id": "73ad1ad2-1813-4f92-9a94-ebd9756f3db3",
   "metadata": {},
   "outputs": [
    {
     "data": {
      "text/plain": [
       "array(8.36104368e-05)"
      ]
     },
     "execution_count": 6,
     "metadata": {},
     "output_type": "execute_result"
    }
   ],
   "source": [
    "#print(returns.cov().shape)\n",
    "model2 = SampleCovariance(num=20)\n",
    "model2.cov.value = returns.cov().values\n",
    "\n",
    "weights = pd.Series(index = prices.columns, data=0.05).values\n",
    "model2.estimate_risk(weights).value\n",
    "\n",
    "model2 = SampleCovariance_Product(num=20)\n",
    "model2.cov.value = returns.cov().values\n",
    "weights = pd.Series(index = prices.columns, data=0.05).values\n",
    "model2.estimate_risk(weights).value\n"
   ]
  },
  {
   "cell_type": "markdown",
   "id": "05839c24-e75a-44ea-8944-cb65e255a243",
   "metadata": {},
   "source": [
    "## Fundamental Factor Risk Models"
   ]
  },
  {
   "cell_type": "code",
   "execution_count": 7,
   "id": "9a2440fd-b229-4c1c-89c9-92cc85bd0e84",
   "metadata": {
    "tags": []
   },
   "outputs": [
    {
     "data": {
      "text/plain": [
       "8.410457095029708e-05"
      ]
     },
     "execution_count": 7,
     "metadata": {},
     "output_type": "execute_result"
    }
   ],
   "source": [
    "model3 = FundamentalFactorRiskModel(factor_covariance=model.factors.cov(),\n",
    "                                    exposure=model.exposure,\n",
    "                                    idiosyncratic_risk=model.idiosyncratic_returns.std())\n",
    "\n",
    "weights = pd.Series(index = prices.columns, data=0.05).values\n",
    "model3.estimate_risk(weights).value"
   ]
  },
  {
   "cell_type": "markdown",
   "id": "c1bebdb0-7197-4823-8530-e4da3a03f91f",
   "metadata": {},
   "source": [
    "## RiskModel is injected into optimizer"
   ]
  },
  {
   "cell_type": "code",
   "execution_count": 8,
   "id": "2dd75849-e600-4f26-bbac-e63d06eb1335",
   "metadata": {},
   "outputs": [
    {
     "name": "stdout",
     "output_type": "stream",
     "text": [
      "GOOG    2.848336e-18\n",
      "AAPL    1.119894e-02\n",
      "FB      2.304546e-18\n",
      "BABA    3.163122e-02\n",
      "AMZN    8.130561e-02\n",
      "GE      2.928897e-02\n",
      "AMD    -5.601166e-18\n",
      "WMT     6.158817e-02\n",
      "BAC    -3.221819e-18\n",
      "GM     -3.927327e-18\n",
      "T       9.970227e-02\n",
      "UAA     3.134359e-18\n",
      "SHLD    1.459721e-17\n",
      "XOM     2.298441e-01\n",
      "RRC    -1.920683e-17\n",
      "BBY     8.742421e-03\n",
      "MA      3.316937e-03\n",
      "PFE     2.484151e-01\n",
      "JPM    -2.403183e-18\n",
      "SBUX    1.949663e-01\n",
      "dtype: float64\n",
      "4.427599563869687e-05\n"
     ]
    }
   ],
   "source": [
    "w = cvx.Variable(20, \"weights\")\n",
    "w0 = 0.05 * np.ones(20)\n",
    "\n",
    "objective = cvx.Minimize(model.estimate_risk(w))\n",
    "constraints = [w >= 0, cvx.sum(w) == 1]\n",
    "\n",
    "problem = cvx.Problem(objective=objective, constraints=constraints)\n",
    "problem.solve()\n",
    "\n",
    "print(pd.Series(data=w.value, index=prices.columns))\n",
    "print(model.estimate_risk(w).value)\n",
    "\n",
    "# check the solution\n",
    "assert np.isclose(w.value.sum(), 1.0)\n",
    "assert np.all(w.value > -0.01)"
   ]
  },
  {
   "cell_type": "code",
   "execution_count": 9,
   "id": "f296a634-1cb0-4bcd-840a-987be13cfdbc",
   "metadata": {},
   "outputs": [
    {
     "name": "stdout",
     "output_type": "stream",
     "text": [
      "GOOG    1.733346e-18\n",
      "AAPL    3.460390e-02\n",
      "FB      4.125759e-18\n",
      "BABA    2.497240e-02\n",
      "AMZN    5.801095e-02\n",
      "GE      2.808894e-02\n",
      "AMD    -3.642522e-18\n",
      "WMT     7.364039e-02\n",
      "BAC    -5.590159e-19\n",
      "GM     -2.114470e-18\n",
      "T       1.257405e-01\n",
      "UAA     3.236164e-18\n",
      "SHLD    5.489146e-18\n",
      "XOM     2.209641e-01\n",
      "RRC    -7.275791e-18\n",
      "BBY     5.780887e-03\n",
      "MA      1.931995e-02\n",
      "PFE     2.300331e-01\n",
      "JPM    -9.114715e-19\n",
      "SBUX    1.788449e-01\n",
      "dtype: float64\n",
      "4.450529830144715e-05\n"
     ]
    }
   ],
   "source": [
    "w = cvx.Variable(20, \"weights\")\n",
    "w0 = 0.05 * np.ones(20)\n",
    "\n",
    "objective = cvx.Minimize(model2.estimate_risk(w))\n",
    "constraints = [w >= 0, cvx.sum(w) == 1]\n",
    "\n",
    "problem = cvx.Problem(objective=objective, constraints=constraints)\n",
    "problem.solve()\n",
    "\n",
    "print(pd.Series(data=w.value, index=prices.columns))\n",
    "print(model.estimate_risk(w).value)\n",
    "\n",
    "# check the solution\n",
    "assert np.isclose(w.value.sum(), 1.0)\n",
    "assert np.all(w.value > -0.01)\n"
   ]
  },
  {
   "cell_type": "code",
   "execution_count": 10,
   "id": "8f8de3c8-23a9-4d50-ba99-fcf5f2baddb9",
   "metadata": {},
   "outputs": [
    {
     "name": "stdout",
     "output_type": "stream",
     "text": [
      "GOOG    2.448818e-07\n",
      "AAPL    3.714206e-02\n",
      "FB     -2.935275e-06\n",
      "BABA    2.076418e-02\n",
      "AMZN    7.117223e-02\n",
      "GE      5.390743e-02\n",
      "AMD     3.182091e-06\n",
      "WMT     8.615174e-02\n",
      "BAC     6.963325e-06\n",
      "GM      2.748607e-06\n",
      "T       1.295836e-01\n",
      "UAA     4.368880e-06\n",
      "SHLD    8.349942e-06\n",
      "XOM     1.845333e-01\n",
      "RRC    -3.983659e-06\n",
      "BBY     1.084189e-02\n",
      "MA      5.224451e-02\n",
      "PFE     1.816263e-01\n",
      "JPM     2.265593e-04\n",
      "SBUX    1.717872e-01\n",
      "dtype: float64\n",
      "4.486586524361176e-05\n"
     ]
    }
   ],
   "source": [
    "w = cvx.Variable(20, \"weights\")\n",
    "w0 = 0.05 * np.ones(20)\n",
    "\n",
    "objective = cvx.Minimize(model3.estimate_risk(w))\n",
    "constraints = [w >= 0, cvx.sum(w) == 1]\n",
    "\n",
    "problem = cvx.Problem(objective=objective, constraints=constraints)\n",
    "problem.solve()\n",
    "\n",
    "print(pd.Series(data=w.value, index=prices.columns))\n",
    "print(model.estimate_risk(w).value)\n",
    "\n",
    "# check the solution\n",
    "assert np.isclose(w.value.sum(), 1.0)\n",
    "assert np.all(w.value > -0.01)\n"
   ]
  },
  {
   "cell_type": "code",
   "execution_count": null,
   "id": "382f82ec-0837-41e1-a13e-b7c0d9eea56e",
   "metadata": {},
   "outputs": [],
   "source": []
  }
 ],
 "metadata": {
  "kernelspec": {
   "display_name": "risk",
   "language": "python",
   "name": "risk"
  },
  "language_info": {
   "codemirror_mode": {
    "name": "ipython",
    "version": 3
   },
   "file_extension": ".py",
   "mimetype": "text/x-python",
   "name": "python",
   "nbconvert_exporter": "python",
   "pygments_lexer": "ipython3",
   "version": "3.10.6"
  }
 },
 "nbformat": 4,
 "nbformat_minor": 5
}
