{
 "cells": [
  {
   "cell_type": "markdown",
   "id": "dfd0777f",
   "metadata": {
    "collapsed": false,
    "jupyter": {
     "outputs_hidden": false
    },
    "pycharm": {
     "name": "#%% md\n"
    }
   },
   "source": [
    "# Factor risk models"
   ]
  },
  {
   "cell_type": "code",
   "execution_count": 1,
   "id": "3474087e",
   "metadata": {
    "collapsed": false,
    "jupyter": {
     "outputs_hidden": false
    },
    "pycharm": {
     "name": "#%%\n"
    }
   },
   "outputs": [],
   "source": [
    "import pandas as pd\n",
    "import numpy as np\n",
    "import cvxpy as cvx\n",
    "\n",
    "from cvx.linalg import pca\n",
    "from cvx.risk.factor import FactorModel"
   ]
  },
  {
   "cell_type": "markdown",
   "id": "7a6b8122",
   "metadata": {
    "collapsed": false,
    "jupyter": {
     "outputs_hidden": false
    },
    "pycharm": {
     "name": "#%% md\n"
    }
   },
   "source": [
    "## Load prices and compute returns"
   ]
  },
  {
   "cell_type": "code",
   "execution_count": null,
   "id": "a22b009a",
   "metadata": {
    "collapsed": false,
    "jupyter": {
     "outputs_hidden": false
    },
    "pycharm": {
     "name": "#%%\n"
    }
   },
   "outputs": [],
   "source": [
    "prices = pd.read_csv(\"data/stock_prices.csv\", index_col=0, header=0, parse_dates=True)\n",
    "returns = prices.pct_change().fillna(0.0)"
   ]
  },
  {
   "cell_type": "markdown",
   "id": "00c84f55",
   "metadata": {
    "collapsed": false,
    "jupyter": {
     "outputs_hidden": false
    },
    "pycharm": {
     "name": "#%% md\n"
    }
   },
   "source": [
    "## Compute principal components"
   ]
  },
  {
   "cell_type": "code",
   "execution_count": null,
   "id": "54e6f9d1",
   "metadata": {
    "collapsed": false,
    "jupyter": {
     "outputs_hidden": false
    },
    "pycharm": {
     "name": "#%%\n"
    }
   },
   "outputs": [],
   "source": [
    "factors = pca(returns=returns, n_components=10)"
   ]
  },
  {
   "cell_type": "markdown",
   "id": "8e79d788",
   "metadata": {
    "collapsed": false,
    "jupyter": {
     "outputs_hidden": false
    },
    "pycharm": {
     "name": "#%% md\n"
    }
   },
   "source": [
    "## Create the risk model, here a FactorModel"
   ]
  },
  {
   "cell_type": "code",
   "execution_count": null,
   "id": "bc5e8afd",
   "metadata": {
    "collapsed": false,
    "jupyter": {
     "outputs_hidden": false
    },
    "pycharm": {
     "name": "#%%\n"
    }
   },
   "outputs": [],
   "source": [
    "model = FactorModel(assets=len(returns.columns), k=10)\n",
    "\n",
    "# update the model parameters\n",
    "model.update(cov=factors.cov, exposure=factors.exposure.values, idiosyncratic_risk=factors.idiosyncratic.std().values)\n",
    "\n",
    "# test the risk model with uniform weights\n",
    "weights = 0.05 * np.ones(20)\n",
    "model.estimate(weights).value"
   ]
  },
  {
   "cell_type": "markdown",
   "id": "85da2abd",
   "metadata": {
    "collapsed": false,
    "jupyter": {
     "outputs_hidden": false
    },
    "pycharm": {
     "name": "#%% md\n"
    }
   },
   "source": [
    "## RiskModel is injected into optimizer"
   ]
  },
  {
   "cell_type": "code",
   "execution_count": null,
   "id": "7e17daf0",
   "metadata": {
    "collapsed": false,
    "jupyter": {
     "outputs_hidden": false
    },
    "pycharm": {
     "name": "#%%\n"
    }
   },
   "outputs": [],
   "source": [
    "w = cvx.Variable(20)\n",
    "y = cvx.Variable(10)\n",
    "\n",
    "objective = cvx.Minimize(1e3*model.estimate(w, y=y))\n",
    "constraints = [w >= 0, cvx.sum(w) == 1] + model.bounds.constraints(w)\n",
    "\n",
    "problem = cvx.Problem(objective=objective, constraints=constraints)\n",
    "problem.solve()\n",
    "\n",
    "print(pd.Series(data=w.value, index=prices.columns))\n",
    "print(model.estimate(w, y=y).value)\n",
    "\n",
    "# check the solution\n",
    "assert np.isclose(w.value.sum(), 1.0)\n",
    "assert np.all(w.value > -0.01)"
   ]
  }
 ],
 "metadata": {
  "kernelspec": {
   "display_name": "risk",
   "language": "python",
   "name": "risk"
  },
  "language_info": {
   "codemirror_mode": {
    "name": "ipython",
    "version": 3
   },
   "file_extension": ".py",
   "mimetype": "text/x-python",
   "name": "python",
   "nbconvert_exporter": "python",
   "pygments_lexer": "ipython3",
   "version": "3.9.7"
  }
 },
 "nbformat": 4,
 "nbformat_minor": 5
}
