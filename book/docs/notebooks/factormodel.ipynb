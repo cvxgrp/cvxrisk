{
 "cells": [
  {
   "cell_type": "markdown",
   "id": "dfd0777f",
   "metadata": {
    "collapsed": false,
    "jupyter": {
     "outputs_hidden": false
    },
    "pycharm": {
     "name": "#%% md\n"
    }
   },
   "source": [
    "# Factor risk models"
   ]
  },
  {
   "cell_type": "code",
   "execution_count": 1,
   "id": "3474087e",
   "metadata": {
    "collapsed": false,
    "jupyter": {
     "outputs_hidden": false
    },
    "pycharm": {
     "name": "#%%\n"
    }
   },
   "outputs": [],
   "source": [
    "import pandas as pd\n",
    "import numpy as np\n",
    "import cvxpy as cvx\n",
    "\n",
    "from cvx.risk.linalg import pca, cholesky\n",
    "\n",
    "from cvx.risk.factor import FactorModel"
   ]
  },
  {
   "cell_type": "markdown",
   "id": "5acabae2-f859-4512-978c-29e3a9a96cb5",
   "metadata": {
    "pycharm": {
     "name": "#%% md\n"
    }
   },
   "source": [
    "## An abstract Risk Model\n",
    "\n",
    "An abstract risk model is the parent for concrete risk models. It serves as the blueprint. No instances of this class can be created.\n",
    "Each risk model inherits the interface and all attributes defined in this class. \n",
    "\n",
    "An optimizer would get a risk model. Since all risk models share the interface it is trivial to change the risk model."
   ]
  },
  {
   "cell_type": "code",
   "execution_count": 2,
   "id": "5699fcfb-b7ce-4018-b20d-62603b27453b",
   "metadata": {
    "pycharm": {
     "name": "#%%\n"
    }
   },
   "outputs": [],
   "source": [
    "from abc import abstractmethod, ABC\n",
    "\n",
    "\n",
    "class RiskModel(ABC):\n",
    "    @abstractmethod\n",
    "    def estimate_risk(self, weights, **kwargs):\n",
    "        \"\"\"\n",
    "        Estimate the variance of a portfolio given its weights\n",
    "        The weights may come as a cvxpy Variable or numpy array.\n",
    "        \"\"\""
   ]
  },
  {
   "cell_type": "markdown",
   "id": "72f447e8-635d-4ff0-b4ec-d2c856078ccd",
   "metadata": {
    "pycharm": {
     "name": "#%% md\n"
    }
   },
   "source": [
    "## Load prices and compute returns"
   ]
  },
  {
   "cell_type": "code",
   "execution_count": 3,
   "id": "feafbc51-f23e-4435-ae09-7d207fcd7136",
   "metadata": {
    "pycharm": {
     "name": "#%%\n"
    }
   },
   "outputs": [],
   "source": [
    "prices = pd.read_csv(\"data/stock_prices.csv\", index_col=0, header=0, parse_dates=True)\n",
    "returns = prices.pct_change().fillna(0.0)"
   ]
  },
  {
   "cell_type": "markdown",
   "id": "093b0aed-c5ca-4d1e-8259-70224c64bb35",
   "metadata": {
    "pycharm": {
     "name": "#%% md\n"
    }
   },
   "source": [
    "## Compute principal components"
   ]
  },
  {
   "cell_type": "code",
   "execution_count": 4,
   "id": "f9e3e0a1-d16d-4976-81ed-4ec3815cb5ee",
   "metadata": {
    "pycharm": {
     "name": "#%%\n"
    },
    "tags": []
   },
   "outputs": [],
   "source": [
    "factors = pca(returns=returns, n_components=10)"
   ]
  },
  {
   "cell_type": "markdown",
   "id": "0d3c82c4-beed-4e76-b7c8-4e005afe1abc",
   "metadata": {
    "pycharm": {
     "name": "#%% md\n"
    }
   },
   "source": [
    "## Create the risk model, here a FactorModel"
   ]
  },
  {
   "cell_type": "code",
   "execution_count": 5,
   "id": "9f2c55ae-3a66-4791-a1f0-8acaa1b37623",
   "metadata": {
    "pycharm": {
     "name": "#%%\n"
    }
   },
   "outputs": [
    {
     "data": {
      "text/plain": [
       "8.526818368171256e-05"
      ]
     },
     "execution_count": 5,
     "metadata": {},
     "output_type": "execute_result"
    }
   ],
   "source": [
    "model = FactorModel(assets=len(returns.columns), k=10)\n",
    "\n",
    "# update the model parameters\n",
    "model.chol.value = cholesky(factors.cov)\n",
    "model.exposure.value = factors.exposure\n",
    "model.idiosyncratic_risk.value = factors.idiosyncratic.std().values\n",
    "\n",
    "# test the risk model with uniform weights\n",
    "weights = pd.Series(index = prices.columns, data=0.05).values\n",
    "model.estimate_risk(weights).value"
   ]
  },
  {
   "cell_type": "markdown",
   "id": "c1bebdb0-7197-4823-8530-e4da3a03f91f",
   "metadata": {
    "pycharm": {
     "name": "#%% md\n"
    }
   },
   "source": [
    "## RiskModel is injected into optimizer"
   ]
  },
  {
   "cell_type": "code",
   "execution_count": 6,
   "id": "2dd75849-e600-4f26-bbac-e63d06eb1335",
   "metadata": {
    "pycharm": {
     "name": "#%%\n"
    }
   },
   "outputs": [
    {
     "name": "stdout",
     "output_type": "stream",
     "text": [
      "GOOG    3.726134e-24\n",
      "AAPL    1.307768e-02\n",
      "FB      3.614237e-25\n",
      "BABA    5.587538e-02\n",
      "AMZN    3.332625e-02\n",
      "GE      6.494129e-03\n",
      "AMD    -1.265276e-22\n",
      "WMT     4.472814e-02\n",
      "BAC    -1.000186e-23\n",
      "GM     -2.356836e-23\n",
      "T       1.330519e-01\n",
      "UAA    -5.489793e-23\n",
      "SHLD   -3.594943e-22\n",
      "XOM     2.498250e-01\n",
      "RRC    -2.624581e-23\n",
      "BBY     1.102160e-02\n",
      "MA      6.236276e-02\n",
      "PFE     2.407212e-01\n",
      "JPM    -7.403189e-24\n",
      "SBUX    1.495160e-01\n",
      "dtype: float64\n",
      "4.620056983380704e-05\n"
     ]
    }
   ],
   "source": [
    "w = cvx.Variable(20)\n",
    "y = cvx.Variable(10)\n",
    "\n",
    "objective = cvx.Minimize(1e3*model.estimate_risk(w, y=y))\n",
    "constraints = [w >= 0, cvx.sum(w) == 1, y == model.exposure @ w]\n",
    "\n",
    "problem = cvx.Problem(objective=objective, constraints=constraints)\n",
    "problem.solve()\n",
    "\n",
    "print(pd.Series(data=w.value, index=prices.columns))\n",
    "print(model.estimate_risk(w).value)\n",
    "\n",
    "# check the solution\n",
    "assert np.isclose(w.value.sum(), 1.0)\n",
    "assert np.all(w.value > -0.01)"
   ]
  },
  {
   "cell_type": "code",
   "execution_count": null,
   "id": "f9097c1b-e07c-4049-b57e-16a26c311c4d",
   "metadata": {},
   "outputs": [],
   "source": []
  }
 ],
 "metadata": {
  "kernelspec": {
   "display_name": "risk",
   "language": "python",
   "name": "risk"
  },
  "language_info": {
   "codemirror_mode": {
    "name": "ipython",
    "version": 3
   },
   "file_extension": ".py",
   "mimetype": "text/x-python",
   "name": "python",
   "nbconvert_exporter": "python",
   "pygments_lexer": "ipython3",
   "version": "3.9.7"
  }
 },
 "nbformat": 4,
 "nbformat_minor": 5
}
