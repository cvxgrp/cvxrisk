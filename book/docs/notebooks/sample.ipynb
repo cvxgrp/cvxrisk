{
 "cells": [
  {
   "cell_type": "markdown",
   "metadata": {
    "collapsed": false,
    "jupyter": {
     "outputs_hidden": false
    },
    "pycharm": {
     "is_executing": true,
     "name": "#%%\n"
    }
   },
   "source": [
    "# Sample covariance"
   ]
  },
  {
   "cell_type": "code",
   "execution_count": 1,
   "metadata": {
    "collapsed": false,
    "jupyter": {
     "outputs_hidden": false
    },
    "pycharm": {
     "name": "#%%\n"
    }
   },
   "outputs": [],
   "source": [
    "import numpy as np\n",
    "import cvxpy as cp\n",
    "\n",
    "from cvx.risk.sample import SampleCovariance\n",
    "from cvx.random import rand_cov\n",
    "from cvx.portfolio.min_risk import minrisk_problem\n",
    "\n",
    "n = 6"
   ]
  },
  {
   "cell_type": "code",
   "execution_count": 2,
   "metadata": {
    "collapsed": false,
    "jupyter": {
     "outputs_hidden": false
    },
    "pycharm": {
     "name": "#%%\n"
    }
   },
   "outputs": [],
   "source": [
    "def problem(n):\n",
    "    weights = cp.Variable(n)\n",
    "    _riskmodel = SampleCovariance(num=n)\n",
    "    _problem = minrisk_problem(_riskmodel, weights)\n",
    "\n",
    "    return _problem, _riskmodel"
   ]
  },
  {
   "cell_type": "code",
   "execution_count": 3,
   "metadata": {
    "collapsed": false,
    "jupyter": {
     "outputs_hidden": false
    },
    "pycharm": {
     "name": "#%%\n"
    }
   },
   "outputs": [
    {
     "name": "stdout",
     "output_type": "stream",
     "text": [
      "270 ms ± 9.77 ms per loop (mean ± std. dev. of 7 runs, 1 loop each)\n"
     ]
    }
   ],
   "source": [
    "%%timeit\n",
    "n = 50\n",
    "a = rand_cov(n-2)\n",
    "\n",
    "_problem, _riskmodel = problem(n)\n",
    "\n",
    "for i in range(100):\n",
    "    _riskmodel.update(cov=a, lower_assets=np.zeros(48), upper_assets=np.ones(48))\n",
    "    _problem.solve()"
   ]
  },
  {
   "cell_type": "code",
   "execution_count": 4,
   "metadata": {
    "collapsed": false,
    "jupyter": {
     "outputs_hidden": false
    },
    "pycharm": {
     "name": "#%%\n"
    }
   },
   "outputs": [
    {
     "name": "stdout",
     "output_type": "stream",
     "text": [
      "2.02 s ± 36.8 ms per loop (mean ± std. dev. of 7 runs, 1 loop each)\n"
     ]
    }
   ],
   "source": [
    "%%timeit\n",
    "n = 50\n",
    "a = rand_cov(n-2)\n",
    "\n",
    "# here we construct a cvxpy problem in every iteration.\n",
    "# We do not take advantage of parameters \n",
    "\n",
    "for i in range(100):\n",
    "    _problem, _riskmodel = problem(a.shape[0])\n",
    "    _riskmodel.update(cov=a, lower_assets=np.zeros(48), upper_assets=np.ones(48))\n",
    "    _problem.solve()"
   ]
  },
  {
   "cell_type": "code",
   "execution_count": null,
   "metadata": {},
   "outputs": [],
   "source": []
  }
 ],
 "metadata": {
  "kernelspec": {
   "display_name": "Python 3 (ipykernel)",
   "language": "python",
   "name": "python3"
  },
  "language_info": {
   "codemirror_mode": {
    "name": "ipython",
    "version": 3
   },
   "file_extension": ".py",
   "mimetype": "text/x-python",
   "name": "python",
   "nbconvert_exporter": "python",
   "pygments_lexer": "ipython3",
   "version": "3.12.7"
  }
 },
 "nbformat": 4,
 "nbformat_minor": 4
}
