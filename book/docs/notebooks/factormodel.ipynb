{
 "cells": [
  {
   "cell_type": "markdown",
   "id": "dfd0777f",
   "metadata": {
    "collapsed": false,
    "jupyter": {
     "outputs_hidden": false
    },
    "pycharm": {
     "name": "#%% md\n"
    }
   },
   "source": [
    "# Factor risk models"
   ]
  },
  {
   "cell_type": "code",
   "execution_count": 1,
   "id": "90ac1e04",
   "metadata": {
    "collapsed": false,
    "jupyter": {
     "outputs_hidden": false
    },
    "pycharm": {
     "name": "#%%\n"
    }
   },
   "outputs": [],
   "source": [
    "import pandas as pd\n",
    "import numpy as np\n",
    "import cvxpy as cvx\n",
    "\n",
    "from cvx.risk.linalg import pca\n",
    "from cvx.risk.factor import FactorModel\n",
    "from cvx.portfolio.min_risk import minrisk_problem"
   ]
  },
  {
   "cell_type": "markdown",
   "id": "10e4177b",
   "metadata": {
    "collapsed": false,
    "jupyter": {
     "outputs_hidden": false
    },
    "pycharm": {
     "name": "#%% md\n"
    }
   },
   "source": [
    "## Load prices and compute returns"
   ]
  },
  {
   "cell_type": "code",
   "execution_count": 2,
   "id": "919fdb02",
   "metadata": {
    "collapsed": false,
    "jupyter": {
     "outputs_hidden": false
    },
    "pycharm": {
     "name": "#%%\n"
    }
   },
   "outputs": [],
   "source": [
    "prices = pd.read_csv(\"data/stock_prices.csv\", index_col=0, header=0, parse_dates=True)\n",
    "returns = prices.pct_change().fillna(0.0)"
   ]
  },
  {
   "cell_type": "markdown",
   "id": "e7cb6cf2",
   "metadata": {
    "collapsed": false,
    "jupyter": {
     "outputs_hidden": false
    },
    "pycharm": {
     "name": "#%% md\n"
    }
   },
   "source": [
    "## Compute principal components"
   ]
  },
  {
   "cell_type": "code",
   "execution_count": 3,
   "id": "7ab19ea1",
   "metadata": {
    "collapsed": false,
    "jupyter": {
     "outputs_hidden": false
    },
    "pycharm": {
     "name": "#%%\n"
    }
   },
   "outputs": [],
   "source": [
    "factors = pca(returns=returns, n_components=10)"
   ]
  },
  {
   "cell_type": "markdown",
   "id": "0d69adef",
   "metadata": {
    "collapsed": false,
    "jupyter": {
     "outputs_hidden": false
    },
    "pycharm": {
     "name": "#%% md\n"
    }
   },
   "source": [
    "## Create the risk model, here a FactorModel"
   ]
  },
  {
   "cell_type": "code",
   "execution_count": 4,
   "id": "7aa025fa",
   "metadata": {
    "collapsed": false,
    "jupyter": {
     "outputs_hidden": false
    },
    "pycharm": {
     "name": "#%%\n"
    }
   },
   "outputs": [
    {
     "data": {
      "text/plain": [
       "np.float64(0.009234077305378861)"
      ]
     },
     "execution_count": 4,
     "metadata": {},
     "output_type": "execute_result"
    }
   ],
   "source": [
    "model = FactorModel(assets=len(returns.columns), k=10)\n",
    "\n",
    "# update the model parameters\n",
    "model.update(cov=factors.cov, exposure=factors.exposure.values, idiosyncratic_risk=factors.idiosyncratic.std().values,\n",
    "             lower_assets=np.zeros(20), upper_assets=np.ones(20),\n",
    "             lower_factors=-0.1*np.ones(10), upper_factors=0.1*np.ones(10))\n",
    "\n",
    "# test the risk model with uniform weights\n",
    "weights = 0.05 * np.ones(20)\n",
    "model.estimate(weights).value"
   ]
  },
  {
   "cell_type": "markdown",
   "id": "80504815",
   "metadata": {
    "collapsed": false,
    "jupyter": {
     "outputs_hidden": false
    },
    "pycharm": {
     "name": "#%% md\n"
    }
   },
   "source": [
    "## RiskModel is injected into optimizer"
   ]
  },
  {
   "cell_type": "code",
   "execution_count": 5,
   "id": "2654eb65",
   "metadata": {
    "collapsed": false,
    "jupyter": {
     "outputs_hidden": false
    },
    "pycharm": {
     "name": "#%%\n"
    }
   },
   "outputs": [
    {
     "name": "stdout",
     "output_type": "stream",
     "text": [
      "GOOG    5.654445e-09\n",
      "AAPL    1.078298e-02\n",
      "FB      5.488994e-09\n",
      "BABA    6.149758e-02\n",
      "AMZN    4.095639e-02\n",
      "GE      1.694607e-03\n",
      "AMD     2.165087e-09\n",
      "WMT     4.448256e-02\n",
      "BAC     2.516558e-09\n",
      "GM      2.730308e-09\n",
      "T       1.297914e-01\n",
      "UAA     2.310979e-09\n",
      "SHLD    1.733013e-09\n",
      "XOM     2.502611e-01\n",
      "RRC     2.457944e-09\n",
      "BBY     1.392807e-02\n",
      "MA      5.914495e-02\n",
      "PFE     2.364385e-01\n",
      "JPM     8.938543e-09\n",
      "SBUX    1.510218e-01\n",
      "dtype: float64\n",
      "0.006799927163237368\n",
      "[ 0.04251151  0.09313457  0.03753817  0.08220493 -0.08363883 -0.0280072\n",
      " -0.1        -0.07172425  0.09783884  0.03309744]\n"
     ]
    }
   ],
   "source": [
    "w = cvx.Variable(20)\n",
    "y = cvx.Variable(10)\n",
    "\n",
    "problem = minrisk_problem(model, w, y=y)\n",
    "problem.solve()\n",
    "\n",
    "print(pd.Series(data=w.value, index=prices.columns))\n",
    "print(model.estimate(w, y=y).value)\n",
    "\n",
    "# check the solution\n",
    "assert np.isclose(w.value.sum(), 1.0)\n",
    "assert np.all(w.value > -0.01)\n",
    "print(y.value)"
   ]
  },
  {
   "cell_type": "code",
   "execution_count": 6,
   "id": "f5ade742",
   "metadata": {
    "collapsed": false,
    "jupyter": {
     "outputs_hidden": false
    },
    "pycharm": {
     "name": "#%%\n"
    }
   },
   "outputs": [
    {
     "data": {
      "text/plain": [
       "array([ 0.04251151,  0.09313457,  0.03753817,  0.08220493, -0.08363883,\n",
       "       -0.0280072 , -0.1       , -0.07172425,  0.09783884,  0.03309744])"
      ]
     },
     "execution_count": 6,
     "metadata": {},
     "output_type": "execute_result"
    }
   ],
   "source": [
    "y.value"
   ]
  },
  {
   "cell_type": "code",
   "execution_count": 7,
   "id": "2615d9ad",
   "metadata": {
    "collapsed": false,
    "jupyter": {
     "outputs_hidden": false
    },
    "pycharm": {
     "name": "#%%\n"
    }
   },
   "outputs": [
    {
     "data": {
      "text/plain": [
       "array([ 0.04251151,  0.09313457,  0.03753817,  0.08220493, -0.08363883,\n",
       "       -0.0280072 , -0.1       , -0.07172425,  0.09783884,  0.03309744])"
      ]
     },
     "execution_count": 7,
     "metadata": {},
     "output_type": "execute_result"
    }
   ],
   "source": [
    "model.parameter[\"exposure\"].value @ w.value"
   ]
  },
  {
   "cell_type": "code",
   "execution_count": null,
   "id": "55092844",
   "metadata": {
    "collapsed": false,
    "jupyter": {
     "outputs_hidden": false
    },
    "pycharm": {
     "name": "#%%\n"
    }
   },
   "outputs": [],
   "source": []
  },
  {
   "cell_type": "code",
   "execution_count": 8,
   "id": "fc071ec6",
   "metadata": {
    "collapsed": false,
    "jupyter": {
     "outputs_hidden": false
    },
    "pycharm": {
     "name": "#%%\n"
    }
   },
   "outputs": [
    {
     "data": {
      "text/plain": [
       "array([ 0.04251151,  0.09313457,  0.03753817,  0.08220493, -0.08363883,\n",
       "       -0.0280072 , -0.1       , -0.07172425,  0.09783884,  0.03309744])"
      ]
     },
     "execution_count": 8,
     "metadata": {},
     "output_type": "execute_result"
    }
   ],
   "source": [
    "y.value"
   ]
  },
  {
   "cell_type": "code",
   "execution_count": 9,
   "id": "e7e7aa9c",
   "metadata": {
    "collapsed": false,
    "jupyter": {
     "outputs_hidden": false
    },
    "pycharm": {
     "name": "#%%\n"
    }
   },
   "outputs": [
    {
     "data": {
      "text/plain": [
       "array([ 0.04251151,  0.09313457,  0.03753817,  0.08220493, -0.08363883,\n",
       "       -0.0280072 , -0.1       , -0.07172425,  0.09783884,  0.03309744])"
      ]
     },
     "execution_count": 9,
     "metadata": {},
     "output_type": "execute_result"
    }
   ],
   "source": [
    "model.parameter[\"exposure\"].value @ w.value"
   ]
  },
  {
   "cell_type": "code",
   "execution_count": null,
   "id": "acb359fc",
   "metadata": {
    "collapsed": false,
    "jupyter": {
     "outputs_hidden": false
    },
    "pycharm": {
     "name": "#%%\n"
    }
   },
   "outputs": [],
   "source": []
  },
  {
   "cell_type": "code",
   "execution_count": 10,
   "id": "9feaa9be-34d2-41f6-b5cc-d834b21e5cdd",
   "metadata": {},
   "outputs": [
    {
     "data": {
      "text/plain": [
       "array([ 0.04251151,  0.09313457,  0.03753817,  0.08220493, -0.08363883,\n",
       "       -0.0280072 , -0.1       , -0.07172425,  0.09783884,  0.03309744])"
      ]
     },
     "execution_count": 10,
     "metadata": {},
     "output_type": "execute_result"
    }
   ],
   "source": [
    "y.value"
   ]
  },
  {
   "cell_type": "code",
   "execution_count": 11,
   "id": "adbe8201-75c4-4b90-bdce-3b7fbb8ea7ea",
   "metadata": {},
   "outputs": [
    {
     "data": {
      "text/plain": [
       "array([ 0.04251151,  0.09313457,  0.03753817,  0.08220493, -0.08363883,\n",
       "       -0.0280072 , -0.1       , -0.07172425,  0.09783884,  0.03309744])"
      ]
     },
     "execution_count": 11,
     "metadata": {},
     "output_type": "execute_result"
    }
   ],
   "source": [
    "model.parameter[\"exposure\"].value @ w.value"
   ]
  },
  {
   "cell_type": "code",
   "execution_count": null,
   "id": "9fd5d744-f2f2-4a74-a3c8-f22002ee0700",
   "metadata": {},
   "outputs": [],
   "source": []
  }
 ],
 "metadata": {
  "kernelspec": {
   "display_name": "Python 3 (ipykernel)",
   "language": "python",
   "name": "python3"
  },
  "language_info": {
   "codemirror_mode": {
    "name": "ipython",
    "version": 3
   },
   "file_extension": ".py",
   "mimetype": "text/x-python",
   "name": "python",
   "nbconvert_exporter": "python",
   "pygments_lexer": "ipython3",
   "version": "3.12.7"
  }
 },
 "nbformat": 4,
 "nbformat_minor": 5
}
