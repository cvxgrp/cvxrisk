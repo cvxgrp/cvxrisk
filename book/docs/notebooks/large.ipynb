{
 "cells": [
  {
   "cell_type": "markdown",
   "id": "135a9f98",
   "metadata": {
    "collapsed": false,
    "jupyter": {
     "outputs_hidden": false
    },
    "pycharm": {
     "name": "#%% md\n"
    }
   },
   "source": [
    "# Large problem with 1000 assets and 100 factors"
   ]
  },
  {
   "cell_type": "code",
   "execution_count": null,
   "outputs": [],
   "source": [
    "import numpy as np\n",
    "import pandas as pd\n",
    "import cvxpy as cvx\n",
    "\n",
    "from cvx.risk.factor import FactorModel\n",
    "from cvx.risk.linalg import cholesky\n",
    "from util.random import random_factors, random_beta, random_noise, random_assets"
   ],
   "metadata": {
    "collapsed": false,
    "pycharm": {
     "name": "#%%\n"
    }
   }
  },
  {
   "cell_type": "code",
   "execution_count": null,
   "outputs": [],
   "source": [
    "T = 2000\n",
    "factors = random_factors(T=T, N=100, const_factor=False)"
   ],
   "metadata": {
    "collapsed": false,
    "pycharm": {
     "name": "#%%\n"
    }
   }
  },
  {
   "cell_type": "code",
   "execution_count": null,
   "outputs": [],
   "source": [
    "beta = random_beta(assets=random_assets(1000), factors=factors)"
   ],
   "metadata": {
    "collapsed": false,
    "pycharm": {
     "name": "#%%\n"
    }
   }
  },
  {
   "cell_type": "code",
   "execution_count": null,
   "outputs": [],
   "source": [
    "ret = factors @ beta + 0.01 * random_noise(factors @ beta)"
   ],
   "metadata": {
    "collapsed": false,
    "pycharm": {
     "name": "#%%\n"
    }
   }
  },
  {
   "cell_type": "code",
   "execution_count": null,
   "outputs": [],
   "source": [
    "triangle = FactorModel(assets=len(ret.columns), k=100)"
   ],
   "metadata": {
    "collapsed": false,
    "pycharm": {
     "name": "#%%\n"
    }
   }
  },
  {
   "cell_type": "code",
   "execution_count": null,
   "outputs": [],
   "source": [
    "#w = triangle.weights\n",
    "w = cvx.Variable(1000)\n",
    "y = cvx.Variable(100)\n",
    "\n",
    "objective = cvx.Minimize(triangle.estimate_risk(w, y=y))\n",
    "constraints = [w >= 0, cvx.sum(w) == 1, y==triangle.exposure @ w]\n",
    "\n",
    "triangle.exposure.values = beta\n",
    "triangle.chol.values = cholesky(factors.cov().values)\n",
    "triangle.idiosyncratic_risk.value = pd.DataFrame(data=ret - factors @ beta, index=ret.index, columns=ret.columns).std().values"
   ],
   "metadata": {
    "collapsed": false,
    "pycharm": {
     "name": "#%%\n"
    }
   }
  },
  {
   "cell_type": "code",
   "execution_count": null,
   "outputs": [],
   "source": [
    "%%timeit\n",
    "for i in range(1):\n",
    "    objective = cvx.Minimize(triangle.estimate_risk(w, y=y))\n",
    "    constraints = [w >= 0, cvx.sum(w) == 1, y==triangle.exposure @ w]\n",
    "\n",
    "    problem = cvx.Problem(objective=objective, constraints=constraints)\n",
    "    triangle.exposure.values = beta\n",
    "    triangle.chol.values = cholesky(factors.cov().values)\n",
    "    triangle.idiosyncratic_risk.value = pd.DataFrame(data=ret - factors @ beta, index=ret.index, columns=ret.columns).std().values\n",
    "\n",
    "    problem.solve(ignore_dpp=True)"
   ],
   "metadata": {
    "collapsed": false,
    "pycharm": {
     "name": "#%%\n"
    }
   }
  },
  {
   "cell_type": "code",
   "execution_count": null,
   "outputs": [],
   "source": [
    "# check the solution\n",
    "assert np.isclose(w.value.sum(), 1.0)\n",
    "assert np.all(w.value > -0.01)"
   ],
   "metadata": {
    "collapsed": false,
    "pycharm": {
     "name": "#%%\n"
    }
   }
  },
  {
   "cell_type": "code",
   "execution_count": null,
   "outputs": [],
   "source": [
    "%%timeit\n",
    "for i in range(1):\n",
    "    objective = cvx.Minimize(triangle.estimate_risk(w, y=y))\n",
    "    constraints = [w >= 0, cvx.sum(w) == 1, y==triangle.exposure @ w]\n",
    "\n",
    "    problem = cvx.Problem(objective=objective, constraints=constraints)\n",
    "    triangle.exposure.values = beta\n",
    "    triangle.chol.values = cholesky(factors.cov().values)\n",
    "    triangle.idiosyncratic_risk.value = pd.DataFrame(data=ret - factors @ beta, index=ret.index, columns=ret.columns).std().values\n",
    "\n",
    "    problem.solve(ignore_dpp=True)"
   ],
   "metadata": {
    "collapsed": false,
    "pycharm": {
     "name": "#%%\n"
    }
   }
  },
  {
   "cell_type": "code",
   "execution_count": null,
   "outputs": [],
   "source": [
    "# check the solution\n",
    "assert np.isclose(w.value.sum(), 1.0)\n",
    "assert np.all(w.value > -0.01)"
   ],
   "metadata": {
    "collapsed": false,
    "pycharm": {
     "name": "#%%\n"
    }
   }
  },
  {
   "cell_type": "code",
   "execution_count": null,
   "outputs": [],
   "source": [],
   "metadata": {
    "collapsed": false,
    "pycharm": {
     "name": "#%%\n"
    }
   }
  },
  {
   "cell_type": "code",
   "execution_count": null,
   "outputs": [],
   "source": [
    "# check the solution\n",
    "assert np.isclose(w.value.sum(), 1.0)\n",
    "assert np.all(w.value > -0.01)"
   ],
   "metadata": {
    "collapsed": false,
    "pycharm": {
     "name": "#%%\n"
    }
   }
  },
  {
   "cell_type": "code",
   "execution_count": null,
   "outputs": [],
   "source": [],
   "metadata": {
    "collapsed": false,
    "pycharm": {
     "name": "#%%\n"
    }
   }
  },
  {
   "cell_type": "code",
   "execution_count": null,
   "outputs": [],
   "source": [
    "# check the solution\n",
    "assert np.isclose(w.value.sum(), 1.0)\n",
    "assert np.all(w.value > -0.01)"
   ],
   "metadata": {
    "collapsed": false,
    "pycharm": {
     "name": "#%%\n"
    }
   }
  },
  {
   "cell_type": "code",
   "execution_count": null,
   "outputs": [],
   "source": [],
   "metadata": {
    "collapsed": false,
    "pycharm": {
     "name": "#%%\n"
    }
   }
  },
  {
   "cell_type": "code",
   "execution_count": null,
   "id": "4427e52b-e0ed-4deb-8072-05a4da10d632",
   "metadata": {
    "pycharm": {
     "name": "#%%\n"
    }
   },
   "outputs": [],
   "source": [
    "# check the solution\n",
    "assert np.isclose(w.value.sum(), 1.0)\n",
    "assert np.all(w.value > -0.01)"
   ]
  },
  {
   "cell_type": "code",
   "execution_count": null,
   "id": "80090f5d-73ff-4a46-bac6-bd4edbd4f847",
   "metadata": {
    "pycharm": {
     "name": "#%%\n"
    }
   },
   "outputs": [],
   "source": []
  }
 ],
 "metadata": {
  "kernelspec": {
   "display_name": "risk",
   "language": "python",
   "name": "risk"
  },
  "language_info": {
   "codemirror_mode": {
    "name": "ipython",
    "version": 3
   },
   "file_extension": ".py",
   "mimetype": "text/x-python",
   "name": "python",
   "nbconvert_exporter": "python",
   "pygments_lexer": "ipython3",
   "version": "3.9.7"
  }
 },
 "nbformat": 4,
 "nbformat_minor": 5
}
