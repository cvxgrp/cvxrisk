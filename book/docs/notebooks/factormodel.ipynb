{
 "cells": [
  {
   "cell_type": "markdown",
   "id": "dfd0777f",
   "metadata": {
    "collapsed": false,
    "jupyter": {
     "outputs_hidden": false
    },
    "pycharm": {
     "name": "#%% md\n"
    }
   },
   "source": [
    "# Factor risk models"
   ]
  },
  {
   "cell_type": "code",
   "execution_count": 1,
   "id": "3474087e",
   "metadata": {
    "collapsed": false,
    "jupyter": {
     "outputs_hidden": false
    },
    "pycharm": {
     "name": "#%%\n"
    }
   },
   "outputs": [],
   "source": [
    "import pandas as pd\n",
    "import numpy as np\n",
    "import cvxpy as cvx\n",
    "\n",
    "from cvx.risk.linalg import pca\n",
    "from cvx.risk.factor import FactorModel"
   ]
  },
  {
   "cell_type": "markdown",
   "id": "72f447e8-635d-4ff0-b4ec-d2c856078ccd",
   "metadata": {
    "pycharm": {
     "name": "#%% md\n"
    }
   },
   "source": [
    "## Load prices and compute returns"
   ]
  },
  {
   "cell_type": "code",
   "execution_count": 2,
   "id": "feafbc51-f23e-4435-ae09-7d207fcd7136",
   "metadata": {
    "pycharm": {
     "name": "#%%\n"
    }
   },
   "outputs": [],
   "source": [
    "prices = pd.read_csv(\"data/stock_prices.csv\", index_col=0, header=0, parse_dates=True)\n",
    "returns = prices.pct_change().fillna(0.0)"
   ]
  },
  {
   "cell_type": "markdown",
   "id": "093b0aed-c5ca-4d1e-8259-70224c64bb35",
   "metadata": {
    "pycharm": {
     "name": "#%% md\n"
    }
   },
   "source": [
    "## Compute principal components"
   ]
  },
  {
   "cell_type": "code",
   "execution_count": 3,
   "id": "f9e3e0a1-d16d-4976-81ed-4ec3815cb5ee",
   "metadata": {
    "pycharm": {
     "name": "#%%\n"
    },
    "tags": []
   },
   "outputs": [],
   "source": [
    "factors = pca(returns=returns, n_components=10)"
   ]
  },
  {
   "cell_type": "markdown",
   "id": "0d3c82c4-beed-4e76-b7c8-4e005afe1abc",
   "metadata": {
    "pycharm": {
     "name": "#%% md\n"
    }
   },
   "source": [
    "## Create the risk model, here a FactorModel"
   ]
  },
  {
   "cell_type": "code",
   "execution_count": 5,
   "id": "9f2c55ae-3a66-4791-a1f0-8acaa1b37623",
   "metadata": {
    "pycharm": {
     "name": "#%%\n"
    }
   },
   "outputs": [
    {
     "data": {
      "text/plain": [
       "0.00923407730537884"
      ]
     },
     "execution_count": 5,
     "metadata": {},
     "output_type": "execute_result"
    }
   ],
   "source": [
    "model = FactorModel(assets=len(returns.columns), k=10)\n",
    "\n",
    "# update the model parameters\n",
    "model.update(cov=factors.cov, exposure=factors.exposure.values, idiosyncratic_risk=factors.idiosyncratic.std().values)\n",
    "\n",
    "# test the risk model with uniform weights\n",
    "weights = 0.05 * np.ones(20)\n",
    "model.estimate(weights).value"
   ]
  },
  {
   "cell_type": "markdown",
   "id": "c1bebdb0-7197-4823-8530-e4da3a03f91f",
   "metadata": {
    "pycharm": {
     "name": "#%% md\n"
    }
   },
   "source": [
    "## RiskModel is injected into optimizer"
   ]
  },
  {
   "cell_type": "code",
   "execution_count": 8,
   "id": "2dd75849-e600-4f26-bbac-e63d06eb1335",
   "metadata": {
    "pycharm": {
     "name": "#%%\n"
    }
   },
   "outputs": [
    {
     "name": "stdout",
     "output_type": "stream",
     "text": [
      "GOOG    0.000841\n",
      "AAPL    0.000463\n",
      "FB      0.000462\n",
      "BABA    0.003246\n",
      "AMZN    0.000594\n",
      "GE      0.003120\n",
      "AMD     0.143065\n",
      "WMT     0.001252\n",
      "BAC     0.001290\n",
      "GM      0.000356\n",
      "T       0.000359\n",
      "UAA     0.186590\n",
      "SHLD    0.534772\n",
      "XOM     0.000519\n",
      "RRC     0.036929\n",
      "BBY     0.082946\n",
      "MA      0.000675\n",
      "PFE     0.000576\n",
      "JPM     0.001600\n",
      "SBUX    0.000344\n",
      "dtype: float64\n",
      "0.000170523449914986\n"
     ]
    }
   ],
   "source": [
    "w = cvx.Variable(20)\n",
    "y = cvx.Variable(10)\n",
    "\n",
    "objective = cvx.Minimize(1e3*model.estimate(w, y=y))\n",
    "constraints = [w >= 0, cvx.sum(w) == 1] + model.bounds.constraints(w)\n",
    "\n",
    "problem = cvx.Problem(objective=objective, constraints=constraints)\n",
    "problem.solve()\n",
    "\n",
    "print(pd.Series(data=w.value, index=prices.columns))\n",
    "print(model.estimate(w, y=y).value)\n",
    "\n",
    "# check the solution\n",
    "assert np.isclose(w.value.sum(), 1.0)\n",
    "assert np.all(w.value > -0.01)"
   ]
  },
  {
   "cell_type": "code",
   "execution_count": null,
   "id": "f9097c1b-e07c-4049-b57e-16a26c311c4d",
   "metadata": {},
   "outputs": [],
   "source": []
  }
 ],
 "metadata": {
  "kernelspec": {
   "display_name": "risk",
   "language": "python",
   "name": "risk"
  },
  "language_info": {
   "codemirror_mode": {
    "name": "ipython",
    "version": 3
   },
   "file_extension": ".py",
   "mimetype": "text/x-python",
   "name": "python",
   "nbconvert_exporter": "python",
   "pygments_lexer": "ipython3",
   "version": "3.9.7"
  }
 },
 "nbformat": 4,
 "nbformat_minor": 5
}
